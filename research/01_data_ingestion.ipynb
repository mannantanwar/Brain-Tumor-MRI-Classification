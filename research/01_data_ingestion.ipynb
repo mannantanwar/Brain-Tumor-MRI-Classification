{
 "cells": [
  {
   "cell_type": "code",
   "execution_count": 1,
   "id": "260767b4",
   "metadata": {},
   "outputs": [],
   "source": [
    "import os"
   ]
  },
  {
   "cell_type": "code",
   "execution_count": 2,
   "id": "c099dc71",
   "metadata": {},
   "outputs": [
    {
     "data": {
      "text/plain": [
       "'c:\\\\Users\\\\2101\\\\OneDrive\\\\Desktop\\\\git\\\\Brain-Tumor-MRI-Classification'"
      ]
     },
     "execution_count": 2,
     "metadata": {},
     "output_type": "execute_result"
    }
   ],
   "source": [
    "os.chdir(\"../\")\n",
    "%pwd"
   ]
  },
  {
   "cell_type": "code",
   "execution_count": 3,
   "id": "0e39982f",
   "metadata": {},
   "outputs": [],
   "source": [
    "from brainTumorMRIClassification import logger\n",
    "from brainTumorMRIClassification.constants import (CONFIG_FILE_PATH,PARAMS_FILE_PATH)"
   ]
  },
  {
   "cell_type": "code",
   "execution_count": 4,
   "id": "d6f0573c",
   "metadata": {},
   "outputs": [
    {
     "name": "stderr",
     "output_type": "stream",
     "text": [
      "c:\\Users\\2101\\OneDrive\\Desktop\\git\\Brain-Tumor-MRI-Classification\\venv\\Lib\\site-packages\\tqdm\\auto.py:21: TqdmWarning: IProgress not found. Please update jupyter and ipywidgets. See https://ipywidgets.readthedocs.io/en/stable/user_install.html\n",
      "  from .autonotebook import tqdm as notebook_tqdm\n"
     ]
    }
   ],
   "source": [
    "import os \n",
    "import urllib.request as request\n",
    "import zipfile\n",
    "from pathlib import Path\n",
    "from brainTumorMRIClassification.utils.common import get_size\n",
    "from brainTumorMRIClassification.utils.common import read_yaml, create_directories\n",
    "from pathlib import Path\n",
    "import kagglehub\n",
    "import shutil"
   ]
  },
  {
   "cell_type": "code",
   "execution_count": 5,
   "id": "30919364",
   "metadata": {},
   "outputs": [],
   "source": [
    "from dataclasses import dataclass\n",
    "from pathlib import Path\n",
    "\n",
    "\n",
    "@dataclass(frozen=True)\n",
    "class DataIngestionConfig:\n",
    "    root_dir: Path\n",
    "    source_URL: str\n",
    "    local_data_file: Path\n",
    "    unzip_dir: Path\n"
   ]
  },
  {
   "cell_type": "code",
   "execution_count": 6,
   "id": "2695f3d0",
   "metadata": {},
   "outputs": [],
   "source": [
    "class ConfigurationManager:\n",
    "    def __init__(\n",
    "        self, config_file_path=CONFIG_FILE_PATH, params_file_path=PARAMS_FILE_PATH\n",
    "    ):\n",
    "        self.config = read_yaml(config_file_path)\n",
    "        self.params = read_yaml(params_file_path)\n",
    "\n",
    "        create_directories([self.config.artifacts_root])\n",
    "    \n",
    "    def get_data_ingestion_config(self) -> DataIngestionConfig:\n",
    "        config = self.config.data_ingestion\n",
    "\n",
    "        create_directories([config.root_dir])\n",
    "\n",
    "        data_ingestion_config = DataIngestionConfig(\n",
    "            root_dir=config.root_dir,\n",
    "            source_URL=config.source_URL,\n",
    "            local_data_file=config.local_data_file,\n",
    "            unzip_dir=config.unzip_dir,\n",
    "        )\n",
    "\n",
    "        return data_ingestion_config\n"
   ]
  },
  {
   "cell_type": "code",
   "execution_count": null,
   "id": "bedc6f22",
   "metadata": {},
   "outputs": [],
   "source": [
    "class DataIngestion:\n",
    "    def __init__(self,config : DataIngestionConfig):\n",
    "        self.config = config\n",
    "\n",
    "    def download_data(self):\n",
    "        if not os.path.exists(self.config.local_data_file):\n",
    "\n",
    "            # Download latest version\n",
    "            path = kagglehub.dataset_download(self.config.source_URL)\n",
    "            logger.info(f\"Downloaded file from kaggle hub: {path}\")\n",
    "            # Move the downloaded file to self.config.root_dir\n",
    "            dest_path = os.path.join(self.config.root_dir, \"brain-mri\")\n",
    "            os.makedirs(self.config.root_dir, exist_ok=True)\n",
    "            shutil.move(path, dest_path)\n",
    "            logger.info(f\"Moved file to: {dest_path}\")\n",
    "        else:\n",
    "            logger.info(f\"File already exists: {self.config.local_data_file}\")\n",
    "\n",
    "# class DataIngestion:\n",
    "#     def __init__(self,config:DataIngestionConfig):\n",
    "#         self.config = config\n",
    "#     def dwnld_dataset(self):\n",
    "#         if not os.path.exits(self.config.local_data_file):\n",
    "#             path = kagglehub.dataset_download(self.config.source_URL)\n",
    "#             dest_path = os.path.join(self.config.root_dir,\"brain_MRI\")\n",
    "#             os.mkdirs(self.config.root_dir,exist_ok=True)\n"
   ]
  },
  {
   "cell_type": "code",
   "execution_count": 8,
   "id": "3581d84c",
   "metadata": {},
   "outputs": [
    {
     "name": "stdout",
     "output_type": "stream",
     "text": [
      "[2025-09-03 12:22:48,465] : INFO : common : YAML file config\\config.yaml loaded successfully.\n",
      "[2025-09-03 12:22:48,469] : INFO : common : YAML file params.yaml loaded successfully.\n",
      "[2025-09-03 12:22:48,472] : INFO : common : Created directory: artifacts\n",
      "[2025-09-03 12:22:48,474] : INFO : common : Created directory: artifacts/data_ingestion\n",
      "[2025-09-03 12:22:48,476] : INFO : 2863440271 : File already exists: artifacts/data_ingestion/brain-mri\n"
     ]
    }
   ],
   "source": [
    "try:\n",
    "    config = ConfigurationManager()\n",
    "    data_ingestion_config = config.get_data_ingestion_config()\n",
    "    data_ingestion = DataIngestion(data_ingestion_config)\n",
    "    data_ingestion.download_data()\n",
    "except Exception as e:\n",
    "    raise e"
   ]
  },
  {
   "cell_type": "code",
   "execution_count": null,
   "id": "09bd6ccf",
   "metadata": {},
   "outputs": [],
   "source": []
  }
 ],
 "metadata": {
  "kernelspec": {
   "display_name": "venv",
   "language": "python",
   "name": "python3"
  },
  "language_info": {
   "codemirror_mode": {
    "name": "ipython",
    "version": 3
   },
   "file_extension": ".py",
   "mimetype": "text/x-python",
   "name": "python",
   "nbconvert_exporter": "python",
   "pygments_lexer": "ipython3",
   "version": "3.12.4"
  }
 },
 "nbformat": 4,
 "nbformat_minor": 5
}
